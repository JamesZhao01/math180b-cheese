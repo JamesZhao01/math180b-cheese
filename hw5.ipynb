{
 "cells": [
  {
   "cell_type": "code",
   "execution_count": 1,
   "metadata": {},
   "outputs": [],
   "source": [
    "from math import floor, log\n",
    "from collections import defaultdict\n",
    "import random\n",
    "import tqdm\n",
    "import numpy as np\n",
    "from numpy.random import poisson, binomial, uniform, exponential, multinomial, normal, multivariate_normal\n",
    "from scipy.stats import norm\n",
    "from scipy.stats import kstest, norm\n",
    "\n",
    "def dice():\n",
    "    return random.randint(1, 6)\n",
    "ct = 10000\n",
    "\n",
    "def multi(dist):\n",
    "    v = multinomial(1, dist)\n",
    "    v = np.where(v == 1)[0][0]\n",
    "    return v\n",
    "\n",
    "def markov_start(start, P, length):\n",
    "    '''\n",
    "    Runs Markov Chain with a start value, generates {length} items. \n",
    "    '''\n",
    "    cur = start\n",
    "    seq = []\n",
    "    for i in range(length):\n",
    "        distribution = P[cur].flatten()\n",
    "        v = multinomial(1, distribution)\n",
    "        v = np.where(v == 1)[0][0]\n",
    "        seq.append(v)\n",
    "        cur = v\n",
    "    return seq\n",
    "\n",
    "def markov_start_absorb(start, P, absorb_set):\n",
    "    '''\n",
    "    Runs Markov Chain with a start value, generates {length} items. \n",
    "    '''\n",
    "    cur = start\n",
    "    seq = []\n",
    "    while True:\n",
    "        distribution = P[cur].flatten()\n",
    "        v = multi(distribution)\n",
    "        seq.append(v)\n",
    "        cur = v\n",
    "        if cur in absorb_set:\n",
    "            break\n",
    "    return seq\n",
    "\n",
    "def markov_rdm(dist, P, length):\n",
    "    '''\n",
    "    Runs Markov Chain with a starting distribution, generates {length} + 1 items. \n",
    "    '''\n",
    "    cur = np.nonzero(multinomial(1, dist))[0]\n",
    "    seq = [cur]\n",
    "    for i in range(length):\n",
    "        distribution = P[cur].flatten()\n",
    "        v = np.nonzero(multinomial(1, distribution))[0]\n",
    "        seq.append(v)\n",
    "        cur = v\n",
    "    return seq"
   ]
  },
  {
   "cell_type": "code",
   "execution_count": 6,
   "metadata": {},
   "outputs": [
    {
     "name": "stderr",
     "output_type": "stream",
     "text": [
      "100%|██████████| 50000/50000 [00:00<00:00, 399007.60it/s]"
     ]
    },
    {
     "name": "stdout",
     "output_type": "stream",
     "text": [
      "Empirical: 0.33118\n"
     ]
    },
    {
     "name": "stderr",
     "output_type": "stream",
     "text": [
      "\n"
     ]
    }
   ],
   "source": [
    "def q1():\n",
    "    succ = 0\n",
    "    for i in tqdm.tqdm(range(50000)):\n",
    "        li = [0, random.randint(0, 1)]\n",
    "        while li[-1] != li[-2]:\n",
    "            li.append(random.randint(0, 1))\n",
    "        if li[-2:] == [1, 1]:\n",
    "            succ += 1\n",
    "    print(f\"Empirical: {succ / 50000}\")\n",
    "q1()"
   ]
  },
  {
   "cell_type": "code",
   "execution_count": 8,
   "metadata": {},
   "outputs": [
    {
     "name": "stderr",
     "output_type": "stream",
     "text": [
      "100%|██████████| 50000/50000 [00:00<00:00, 107526.96it/s]"
     ]
    },
    {
     "name": "stdout",
     "output_type": "stream",
     "text": [
      "Empirical: 11.94528\n"
     ]
    },
    {
     "name": "stderr",
     "output_type": "stream",
     "text": [
      "\n"
     ]
    }
   ],
   "source": [
    "def qi():\n",
    "    ct = 0\n",
    "    for i in tqdm.tqdm(range(50000)):\n",
    "        start = 1\n",
    "        cur = random.choice([0, 2])\n",
    "        steps = 1\n",
    "        while cur != start:\n",
    "            cur = random.choice([(cur - 1) % 12, (cur + 1) % 12])\n",
    "            steps += 1\n",
    "        ct += steps\n",
    "    print(f\"Empirical: {ct / 50000}\")\n",
    "qi() \n"
   ]
  },
  {
   "cell_type": "code",
   "execution_count": 12,
   "metadata": {},
   "outputs": [
    {
     "name": "stderr",
     "output_type": "stream",
     "text": [
      "100%|██████████| 500000/500000 [00:05<00:00, 89670.03it/s]"
     ]
    },
    {
     "name": "stdout",
     "output_type": "stream",
     "text": [
      "Empirical: 0.091284\n",
      "Analytical: 0.09090909090909091\n"
     ]
    },
    {
     "name": "stderr",
     "output_type": "stream",
     "text": [
      "\n"
     ]
    }
   ],
   "source": [
    "def qii():\n",
    "    succ = 0\n",
    "    for i in tqdm.tqdm(range(500000)):\n",
    "        start = 1\n",
    "        cur = random.choice([0, 2])\n",
    "        visited = set([cur])\n",
    "        while not (len(visited) < 12 and cur == 1 or len(visited) == 12):\n",
    "            cur = random.choice([(cur - 1) % 12, (cur + 1) % 12])\n",
    "            visited.add(cur)\n",
    "        if len(visited) == 12:\n",
    "            succ += 1\n",
    "    print(f\"Empirical: {succ / 500000}\")\n",
    "    print(f\"Analytical: {1 / 11}\")\n",
    "qii()\n"
   ]
  },
  {
   "cell_type": "code",
   "execution_count": 4,
   "metadata": {},
   "outputs": [
    {
     "name": "stderr",
     "output_type": "stream",
     "text": [
      "100%|██████████| 20000/20000 [00:04<00:00, 4620.00it/s]"
     ]
    },
    {
     "name": "stdout",
     "output_type": "stream",
     "text": [
      "Empirical: 225.0518\n",
      "1/2 (1 + N) 25.5\n",
      "N * sum(1/1 + .. + 1/N) 224.96026691647114\n"
     ]
    },
    {
     "name": "stderr",
     "output_type": "stream",
     "text": [
      "\n"
     ]
    }
   ],
   "source": [
    "def q3():\n",
    "    N = 50\n",
    "    totals = 0\n",
    "    for i in tqdm.tqdm(range(20000)):\n",
    "        collected = set()\n",
    "        iters = 0\n",
    "        while len(collected) < N:\n",
    "            collected.add(random.randint(1, N))\n",
    "            iters += 1\n",
    "        totals += iters\n",
    "    print(f\"Empirical: {totals / 20000}\")\n",
    "    print(f\"1/2 (1 + N) {0.5 * (1 + N)}\")\n",
    "    print(f\"N * sum(1/1 + .. + 1/N) {N * sum([1/i for i in range(1, N + 1)])}\")\n",
    "q3()\n",
    "        "
   ]
  },
  {
   "cell_type": "code",
   "execution_count": 27,
   "metadata": {},
   "outputs": [
    {
     "name": "stderr",
     "output_type": "stream",
     "text": [
      "100%|██████████| 10000/10000 [00:00<00:00, 31545.84it/s]"
     ]
    },
    {
     "name": "stdout",
     "output_type": "stream",
     "text": [
      "alpha: 0.5, beta: 0.5\n",
      "Empirical:  [(1, 0.5021), (2, 0.2464), (3, 0.1248), (4, 0.0657), (5, 0.0297), (6, 0.0159), (7, 0.0071), (8, 0.0042), (9, 0.002), (10, 0.001), (11, 0.0005), (12, 0.0002), (13, 0.0002), (14, 0.0001), (16, 0.0001)]\n",
      "Expected:  [(1, 0.5), (2, 0.25), (3, 0.125), (4, 0.0625), (5, 0.03125), (6, 0.015625), (7, 0.0078125), (8, 0.00390625), (9, 0.001953125), (10, 0.0009765625), (11, 0.00048828125), (12, 0.000244140625), (13, 0.0001220703125), (14, 6.103515625e-05), (16, 1.52587890625e-05)]\n"
     ]
    },
    {
     "name": "stderr",
     "output_type": "stream",
     "text": [
      "\n"
     ]
    }
   ],
   "source": [
    "from collections import defaultdict\n",
    "def q4():\n",
    "    dic = defaultdict(int)\n",
    "    a, b = 0.5, 0.5\n",
    "    P = np.array([[1-a, a], [b, 1-b]])\n",
    "    for i in tqdm.tqdm(range(10000)):\n",
    "        chain = markov_start_absorb(0, P, set([0]))\n",
    "        dic[len(chain)] += 1\n",
    "    print(f\"alpha: {a}, beta: {b}\")\n",
    "    print(\"Empirical: \", [(k, v / 10000) for k, v in sorted(dic.items())])\n",
    "    print(\"Expected: \", [(k, a * ((1 - b) **(k - 2)) * b if k != 1 else 1 - a) for k, v in sorted(dic.items())])\n",
    "q4()\n",
    "\n",
    "    "
   ]
  },
  {
   "cell_type": "code",
   "execution_count": 40,
   "metadata": {},
   "outputs": [
    {
     "name": "stdout",
     "output_type": "stream",
     "text": [
      "[[1, 3], [0, 2], [5, 4]]\n"
     ]
    }
   ],
   "source": [
    "def q5():\n",
    "    g = np.array([\n",
    "        [1, 0, 1, 0, 0, 0], \n",
    "        [0, 1, 0, 1, 0, 0], \n",
    "        [1, 0, 1, 0, 0, 0], \n",
    "        [0, 1, 0, 1, 0, 0], \n",
    "        [1, 1, 0, 0, 1, 1],\n",
    "        [1, 1, 1, 1, 1, 1]])\n",
    "    rev = g.T\n",
    "    topo_order = []\n",
    "    visited = set()\n",
    "    def clock_explore(node):\n",
    "        if node not in visited:\n",
    "            visited.add(node)\n",
    "            for i, v in enumerate(rev[node]):\n",
    "                if v == 1:\n",
    "                    clock_explore(i)\n",
    "            topo_order.append(node)\n",
    "    for i in range(6):\n",
    "        clock_explore(i)\n",
    "    rev_top = reversed(topo_order)\n",
    "\n",
    "    visited = set()\n",
    "    scc = []\n",
    "    def scc_dfs(node):\n",
    "        if node not in visited:\n",
    "            visited.add(node)\n",
    "            scc[-1].append(node)\n",
    "            for i, v in enumerate(g[node]):\n",
    "                if v == 1:\n",
    "                    scc_dfs(i)\n",
    "\n",
    "    for i in rev_top:\n",
    "        if i not in visited:\n",
    "            scc.append([])\n",
    "            scc_dfs(i)\n",
    "    print(scc)\n",
    "q5()"
   ]
  }
 ],
 "metadata": {
  "interpreter": {
   "hash": "00eb4842bf1b72b71abf62257ce3e38328ef92c154c737ec21cf3c1f5526806a"
  },
  "kernelspec": {
   "display_name": "Python 3.7.11 ('smart')",
   "language": "python",
   "name": "python3"
  },
  "language_info": {
   "codemirror_mode": {
    "name": "ipython",
    "version": 3
   },
   "file_extension": ".py",
   "mimetype": "text/x-python",
   "name": "python",
   "nbconvert_exporter": "python",
   "pygments_lexer": "ipython3",
   "version": "3.7.11"
  },
  "orig_nbformat": 4
 },
 "nbformat": 4,
 "nbformat_minor": 2
}
