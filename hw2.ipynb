{
 "cells": [
  {
   "cell_type": "code",
   "execution_count": 2,
   "metadata": {},
   "outputs": [],
   "source": [
    "from math import floor, log\r\n",
    "from collections import defaultdict\r\n",
    "import random\r\n",
    "import tqdm\r\n",
    "import numpy as np\r\n",
    "from numpy.random import poisson, binomial, uniform, exponential, multinomial, normal, multivariate_normal\r\n",
    "from scipy.stats import norm\r\n",
    "\r\n",
    "def dice():\r\n",
    "    return random.randint(1, 6)\r\n",
    "\r\n",
    "\r\n",
    "ct = 1000000"
   ]
  },
  {
   "cell_type": "code",
   "execution_count": 29,
   "metadata": {},
   "outputs": [
    {
     "name": "stdout",
     "output_type": "stream",
     "text": [
      "Empirical var(u): 16.046096270644455, E[u]: 2.0008041721284013\n",
      "Analytical var(u): 16, E[u]: 2\n"
     ]
    }
   ],
   "source": [
    "#q1ii:\r\n",
    "def q1ii():\r\n",
    "    #y = exp(1), x = exp(1/y)\r\n",
    "    y = 2\r\n",
    "    x = exponential(y, ct)\r\n",
    "    u = 2*x - y\r\n",
    "    print(f\"Empirical var(u): {np.var(u)}, E[u]: {np.mean(u)}\")\r\n",
    "    print(f\"Analytical var(u): {4 * y ** 2}, E[u]: {y}\")\r\n",
    "\r\n",
    "q1ii()"
   ]
  },
  {
   "cell_type": "code",
   "execution_count": 8,
   "metadata": {},
   "outputs": [
    {
     "name": "stdout",
     "output_type": "stream",
     "text": [
      "(1000000,) (1000000,)\n",
      "(p, λ) = (0.6068712511959976, 10) | Empirical: 6.071596008875692 | Analyical: 6.068712511959976\n",
      "(1000000,) (1000000,)\n",
      "(p, λ) = (0.5764429010548611, 17) | Empirical: 9.820297310405879 | Analyical: 9.799529317932638\n",
      "(1000000,) (1000000,)\n",
      "(p, λ) = (0.513320287008824, 14) | Empirical: 7.207109565292362 | Analyical: 7.1864840181235365\n",
      "(1000000,) (1000000,)\n",
      "(p, λ) = (0.672341603107916, 19) | Empirical: 12.798869999670778 | Analyical: 12.774490459050405\n",
      "(1000000,) (1000000,)\n",
      "(p, λ) = (0.9043604248453307, 5) | Empirical: 4.519887347647672 | Analyical: 4.521802124226654\n",
      "(1000000,) (1000000,)\n",
      "(p, λ) = (0.5991149002571444, 9) | Empirical: 5.407246833717221 | Analyical: 5.3920341023143\n",
      "(1000000,) (1000000,)\n",
      "(p, λ) = (0.4674667537917414, 17) | Empirical: 7.9574256123092795 | Analyical: 7.946934814459604\n",
      "(1000000,) (1000000,)\n",
      "(p, λ) = (0.0099295857306545, 18) | Empirical: 0.17680719602622458 | Analyical: 0.178732543151781\n",
      "(1000000,) (1000000,)\n",
      "(p, λ) = (0.2062304351749682, 17) | Empirical: 3.5040101420359004 | Analyical: 3.5059173979744593\n",
      "(1000000,) (1000000,)\n",
      "(p, λ) = (0.769448552303921, 16) | Empirical: 12.292609628367229 | Analyical: 12.311176836862735\n"
     ]
    }
   ],
   "source": [
    "# q2\r\n",
    "for i in range(10):\r\n",
    "    p = random.random()\r\n",
    "    lamb = random.randint(4, 20)\r\n",
    "    pois = poisson(lam=lamb, size=ct)\r\n",
    "    x = np.array([binomial(t, p) for t in pois])\r\n",
    "    print(pois.shape, x.shape)\r\n",
    "    cov = np.cov(np.stack((pois, x)))\r\n",
    "    print(f\"(p, λ) = ({p}, {lamb}) | Empirical: {cov[0][1]} | Analyical: {p * lamb}\")"
   ]
  },
  {
   "cell_type": "code",
   "execution_count": 38,
   "metadata": {},
   "outputs": [
    {
     "name": "stdout",
     "output_type": "stream",
     "text": [
      "(a, b): (0.21529915505768737, 0.11803417827564594) | E[X]: 0.0 | EXP[Y]: -0.0 | EXP[XY]: 0.31282\n",
      "(a, b): (0.2277532662193268, 0.10558006711400653) | E[X]: 0.0 | EXP[Y]: 0.001 | EXP[XY]: 0.35057\n",
      "(a, b): (0.07910466148874484, 0.25422867184458847) | E[X]: -0.0 | EXP[Y]: 0.001 | EXP[XY]: -0.09592\n",
      "(a, b): (0.2099807529544111, 0.12335258037892222) | E[X]: -0.001 | EXP[Y]: 0.001 | EXP[XY]: 0.29662\n",
      "(a, b): (0.21701512661465028, 0.11631820671868304) | E[X]: 0.001 | EXP[Y]: 0.0 | EXP[XY]: 0.31788\n",
      "(a, b): (0.29169590764502124, 0.04163742568831208) | E[X]: -0.0 | EXP[Y]: -0.0 | EXP[XY]: 0.54228\n",
      "(a, b): (0.20285072746818897, 0.13048260586514435) | E[X]: 0.0 | EXP[Y]: 0.0 | EXP[XY]: 0.27386\n",
      "(a, b): (0.19017165608032996, 0.14316167725300336) | E[X]: -0.0 | EXP[Y]: 0.001 | EXP[XY]: 0.23772\n",
      "(a, b): (0.1222497910987999, 0.2110835422345334) | E[X]: -0.0 | EXP[Y]: 0.0 | EXP[XY]: 0.03351\n",
      "(a, b): (0.03070520119266107, 0.30262813214067225) | E[X]: 0.001 | EXP[Y]: -0.0 | EXP[XY]: -0.24179\n",
      "(a, b): (0.1111111111111111, 0.2222222222222222) | E[X]: 0.0 | EXP[Y]: -0.001 | EXP[XY]: 0.00023\n"
     ]
    }
   ],
   "source": [
    "# q3\r\n",
    "def q3(a, b):\r\n",
    "    samples = np.array(multinomial(ct, [a, b, 0, 0, a, b, b, 0, a])).reshape(3, 3)\r\n",
    "    exp_x = np.sum([(i - 1) * np.sum(samples[i] / ct) for i in range(3)])\r\n",
    "    exp_y = np.sum([(i - 1) * np.sum(samples[:,i] / ct) for i in range(3)])\r\n",
    "    exp_xy = [ [(col_idx - 1) * (row_idx - 1) * col/ct for col_idx, col in enumerate(row)] for row_idx, row in enumerate(samples)]\r\n",
    "    print(f\"(a, b): ({a}, {b}) | E[X]: {round(exp_x, 3)} | EXP[Y]: {round(exp_y, 3)} | EXP[XY]: {round(np.sum(exp_xy), 5)}\")\r\n",
    "for i in range(10):\r\n",
    "    a = random.random() / 3\r\n",
    "    b = 1/3 - a\r\n",
    "    q3(a, b)\r\n",
    "q3(1/9, 2/9)\r\n",
    "    \r\n",
    "\r\n"
   ]
  },
  {
   "cell_type": "code",
   "execution_count": 30,
   "metadata": {},
   "outputs": [
    {
     "name": "stdout",
     "output_type": "stream",
     "text": [
      "Beta: -0.6830168637357268 | Cov(X, Y): 0.3164564889314994\n",
      "Beta: -1.20216254320314 | Cov(X, Y): -0.20362163745728773\n",
      "Beta: 2.3878811234230124 | Cov(X, Y): 3.37935036584413\n",
      "Beta: 1.4315306411360602 | Cov(X, Y): 2.4359366432022846\n",
      "Beta: -2.198396863746849 | Cov(X, Y): -1.1992427614926189\n",
      "Beta: -0.30486034519467564 | Cov(X, Y): 0.6953359904568949\n",
      "Beta: 0.3394548779927291 | Cov(X, Y): 1.341690918313159\n",
      "Beta: 0.8078165573833544 | Cov(X, Y): 1.8135016299022124\n",
      "Beta: -1.6918554611235512 | Cov(X, Y): -0.6859865240841195\n",
      "Beta: 1.1864371528189483 | Cov(X, Y): 2.1855467833136872\n",
      "Beta: -1 | Cov(X, Y): -0.00045436004651611144\n"
     ]
    }
   ],
   "source": [
    "# q4\r\n",
    "def cov_test(val):\r\n",
    "    x1 = normal(size=ct)\r\n",
    "    x2 = normal(size=ct)\r\n",
    "    y1 = x1 + x2\r\n",
    "    y2 = x1 + val * x2\r\n",
    "    cov_x_y = np.cov(np.stack((y1, y2)))[0][1]\r\n",
    "    print(f\"Beta: {val} | Cov(X, Y): {cov_x_y}\")\r\n",
    "for i in range(10):\r\n",
    "    val = random.random() * 6 - 3\r\n",
    "    cov_test(val)\r\n",
    "cov_test(-1)\r\n",
    "    "
   ]
  },
  {
   "cell_type": "code",
   "execution_count": 31,
   "metadata": {},
   "outputs": [
    {
     "name": "stdout",
     "output_type": "stream",
     "text": [
      "Cov: -1.0028753625572864\n"
     ]
    }
   ],
   "source": [
    "def q4ii():\r\n",
    "    x1 = normal(size=ct)\r\n",
    "    x2 = normal(size=ct)\r\n",
    "\r\n",
    "    y1 = x1 + x2\r\n",
    "    y2 = x1 - x2\r\n",
    "\r\n",
    "    cov_x_y = np.cov(np.stack((x2, y2)))[0][1]\r\n",
    "    print(f\"Cov: {cov_x_y}\")\r\n",
    "q4ii()"
   ]
  },
  {
   "cell_type": "code",
   "execution_count": 32,
   "metadata": {},
   "outputs": [
    {
     "name": "stdout",
     "output_type": "stream",
     "text": [
      "=== q5i ===\n",
      "Empirical: 0.62383, Analytical: 0.6240851829770754\n"
     ]
    }
   ],
   "source": [
    "\r\n",
    "def q5i():\r\n",
    "    x = normal(size=ct)\r\n",
    "    y = normal(size=ct)\r\n",
    "    prob = sum(x - 3*y <= 1) / ct\r\n",
    "    analytical = norm.cdf(np.sqrt(10)/10)\r\n",
    "    print(f\"=== q5i ===\")\r\n",
    "    print(f\"Empirical: {prob}, Analytical: {analytical}\")\r\n",
    "q5i()"
   ]
  },
  {
   "cell_type": "code",
   "execution_count": 13,
   "metadata": {},
   "outputs": [
    {
     "name": "stdout",
     "output_type": "stream",
     "text": [
      "=== q5ii ===\n",
      "Empirical: 0.646968, Analytical: 0.6472715069443633\n"
     ]
    }
   ],
   "source": [
    "def q5ii():\r\n",
    "    covar_mat = np.array([[1, 0.5], [0.5, 1]])\r\n",
    "    xy = multivariate_normal([0, 0], covar_mat, ct)\r\n",
    "    x, y = xy[:,0], xy[:,1]\r\n",
    "    z = x - 3 * y\r\n",
    "    success = sum(z <= 1) / ct\r\n",
    "    analytical = norm.cdf(1/np.sqrt(7))\r\n",
    "    print(f\"=== q5ii ===\")\r\n",
    "    print(f\"Empirical: {success}, Analytical: {analytical}\")\r\n",
    "q5ii()"
   ]
  },
  {
   "cell_type": "code",
   "execution_count": 1,
   "metadata": {},
   "outputs": [
    {
     "ename": "NameError",
     "evalue": "name 'normal' is not defined",
     "output_type": "error",
     "traceback": [
      "\u001b[1;31m---------------------------------------------------------------------------\u001b[0m",
      "\u001b[1;31mNameError\u001b[0m                                 Traceback (most recent call last)",
      "\u001b[1;32m~\\AppData\\Local\\Temp/ipykernel_12028/3729216439.py\u001b[0m in \u001b[0;36m<module>\u001b[1;34m\u001b[0m\n\u001b[0;32m     10\u001b[0m     \u001b[0mks_statistic\u001b[0m\u001b[1;33m,\u001b[0m \u001b[0mp_value\u001b[0m \u001b[1;33m=\u001b[0m \u001b[0mkstest\u001b[0m\u001b[1;33m(\u001b[0m\u001b[0my\u001b[0m\u001b[1;33m,\u001b[0m \u001b[1;34m'norm'\u001b[0m\u001b[1;33m)\u001b[0m\u001b[1;33m\u001b[0m\u001b[1;33m\u001b[0m\u001b[0m\n\u001b[0;32m     11\u001b[0m     \u001b[0mprint\u001b[0m\u001b[1;33m(\u001b[0m\u001b[1;34mf\"p-value: {p_value}\"\u001b[0m\u001b[1;33m)\u001b[0m\u001b[1;33m\u001b[0m\u001b[1;33m\u001b[0m\u001b[0m\n\u001b[1;32m---> 12\u001b[1;33m \u001b[0mq6a\u001b[0m\u001b[1;33m(\u001b[0m\u001b[1;33m)\u001b[0m\u001b[1;33m\u001b[0m\u001b[1;33m\u001b[0m\u001b[0m\n\u001b[0m",
      "\u001b[1;32m~\\AppData\\Local\\Temp/ipykernel_12028/3729216439.py\u001b[0m in \u001b[0;36mq6a\u001b[1;34m()\u001b[0m\n\u001b[0;32m      3\u001b[0m     \u001b[0ma\u001b[0m\u001b[1;33m,\u001b[0m \u001b[0mb\u001b[0m\u001b[1;33m,\u001b[0m \u001b[0msigma\u001b[0m \u001b[1;33m=\u001b[0m \u001b[1;36m1.4\u001b[0m\u001b[1;33m,\u001b[0m \u001b[1;36m2.6\u001b[0m\u001b[1;33m,\u001b[0m \u001b[1;36m3.1\u001b[0m\u001b[1;33m\u001b[0m\u001b[1;33m\u001b[0m\u001b[0m\n\u001b[0;32m      4\u001b[0m \u001b[1;33m\u001b[0m\u001b[0m\n\u001b[1;32m----> 5\u001b[1;33m     \u001b[0mx\u001b[0m \u001b[1;33m=\u001b[0m \u001b[0mnormal\u001b[0m\u001b[1;33m(\u001b[0m\u001b[0msize\u001b[0m\u001b[1;33m=\u001b[0m\u001b[0mct\u001b[0m\u001b[1;33m)\u001b[0m\u001b[1;33m\u001b[0m\u001b[1;33m\u001b[0m\u001b[0m\n\u001b[0m\u001b[0;32m      6\u001b[0m     \u001b[0my\u001b[0m \u001b[1;33m=\u001b[0m \u001b[1;33m[\u001b[0m\u001b[0mnormal\u001b[0m\u001b[1;33m(\u001b[0m\u001b[0mloc\u001b[0m \u001b[1;33m=\u001b[0m \u001b[0ma\u001b[0m\u001b[1;33m*\u001b[0m\u001b[0mval\u001b[0m\u001b[1;33m+\u001b[0m\u001b[0mb\u001b[0m\u001b[1;33m,\u001b[0m \u001b[0mscale\u001b[0m\u001b[1;33m=\u001b[0m\u001b[0msigma\u001b[0m\u001b[1;33m)\u001b[0m \u001b[1;32mfor\u001b[0m \u001b[0mval\u001b[0m \u001b[1;32min\u001b[0m \u001b[0mx\u001b[0m\u001b[1;33m]\u001b[0m\u001b[1;33m\u001b[0m\u001b[1;33m\u001b[0m\u001b[0m\n\u001b[0;32m      7\u001b[0m     \u001b[0mprint\u001b[0m\u001b[1;33m(\u001b[0m\u001b[1;34mf\"sigma**2: {sigma ** 2}, a**2 + sigma**2: {sigma ** 2 + a ** 2}\"\u001b[0m\u001b[1;33m)\u001b[0m\u001b[1;33m\u001b[0m\u001b[1;33m\u001b[0m\u001b[0m\n",
      "\u001b[1;31mNameError\u001b[0m: name 'normal' is not defined"
     ]
    }
   ],
   "source": [
    "from scipy.stats import kstest, norm\r\n",
    "def q6a():\r\n",
    "    a, b, sigma = 1.4, 2.6, 3.1\r\n",
    "\r\n",
    "    x = normal(size=ct)\r\n",
    "    y = [normal(loc = a*val+b, scale=sigma) for val in x]\r\n",
    "    print(f\"sigma**2: {sigma ** 2}, a**2 + sigma**2: {sigma ** 2 + a ** 2}\")\r\n",
    "    print(f\"E[X] = {round(np.mean(x), 3)}, E[Y] = {round(np.mean(y), 3)}, Var(X) = {round(np.var(x), 3)}, Var(Y) = {round(np.var(y), 3)}\")\r\n",
    "    print(f\"Cov(X,Y) = {np.cov(np.stack((x, y)))[0][1]}\")\r\n",
    "    ks_statistic, p_value = kstest(y, 'norm')\r\n",
    "    print(f\"p-value: {p_value}\")\r\n",
    "q6a()"
   ]
  },
  {
   "cell_type": "code",
   "execution_count": 8,
   "metadata": {},
   "outputs": [
    {
     "name": "stdout",
     "output_type": "stream",
     "text": [
      "E[X] = 0.001, E[Y] = 2.607, Var(X) = 1.0, Var(Y) = 11.57\n",
      "Cov(X,Y) = 1.4022464024286831\n"
     ]
    }
   ],
   "source": [
    "def q6b():\r\n",
    "    a, b, sigma = 1.4, 2.6, 3.1\r\n",
    "    rho = a/np.sqrt(sigma ** 2 + a ** 2)\r\n",
    "    x_scale = np.sqrt(1 - a** 2 / (sigma ** 2 + a ** 2))\r\n",
    "    x_mean_prefix = a/(sigma ** 2 + a ** 2)\r\n",
    "    y = normal(loc = b, scale=np.sqrt(sigma**2 + a ** 2), size=ct)\r\n",
    "    x = np.array([normal(loc = x_mean_prefix * (val - b), scale = x_scale) for val in y]).flatten()\r\n",
    "    print(f\"E[X] = {round(np.mean(x), 3)}, E[Y] = {round(np.mean(y), 3)}, Var(X) = {round(np.var(x), 3)}, Var(Y) = {round(np.var(y), 3)}\")\r\n",
    "    print(f\"Cov(X,Y) = {np.cov(np.stack((x, y)))[0][1]}\")\r\n",
    "q6b()"
   ]
  }
 ],
 "metadata": {
  "kernelspec": {
   "display_name": "Python 3.9.7 64-bit ('cse158env': conda)",
   "name": "python397jvsc74a57bd04196bc094c357c3e234779247b9563680b1b9d183fddfea018960c65be8e6147"
  },
  "language_info": {
   "codemirror_mode": {
    "name": "ipython",
    "version": 3
   },
   "file_extension": ".py",
   "mimetype": "text/x-python",
   "name": "python",
   "nbconvert_exporter": "python",
   "pygments_lexer": "ipython3",
   "version": "3.9.7"
  },
  "orig_nbformat": 2
 },
 "nbformat": 4,
 "nbformat_minor": 2
}