{
 "cells": [
  {
   "cell_type": "code",
   "execution_count": 1,
   "metadata": {},
   "outputs": [],
   "source": [
    "from math import floor, log\n",
    "from collections import defaultdict\n",
    "import random\n",
    "import tqdm\n",
    "import numpy as np\n",
    "from numpy.random import poisson, binomial, uniform, exponential, multinomial, normal, multivariate_normal\n",
    "from scipy.stats import norm\n",
    "from scipy.stats import kstest, norm\n",
    "\n",
    "def dice():\n",
    "    return random.randint(1, 6)\n",
    "ct = 10000000\n"
   ]
  },
  {
   "cell_type": "code",
   "execution_count": 74,
   "metadata": {},
   "outputs": [
    {
     "name": "stdout",
     "output_type": "stream",
     "text": [
      "sigx, sigy, rho: [8.410935784007822, 11.801004078987116, 0.4819285689623868]\n",
      "p_value: 0.0, samples: 30655\n",
      "y = 5.328680182951202\n",
      "E[X|y] = 1.8819125802410812, fE[X**2] = 57.769018008451454, fVar(X) = 54.2274230487818\n",
      "Analytical: 57.66330119995443\n"
     ]
    }
   ],
   "source": [
    "def q1():\n",
    "    sigx, sigy = random.random() * 10 + 2, random.random() * 10 + 2\n",
    "    rho = random.random()\n",
    "\n",
    "    y = normal(0, sigy)\n",
    "    epsilon = 0.05\n",
    "\n",
    "    # x_bar_y = normal(sigx/sigy * rho * y, sigx * np.sqrt(1 - rho ** 2), size=ct)\n",
    "    # E_x = np.mean(x_bar_y)\n",
    "    # E_x2 = np.mean(x_bar_y ** 2)\n",
    "    # Var_x = np.var(x_bar_y)\n",
    "\n",
    "    analytical = sigx ** 2 * (1 - rho ** 2) + (sigx ** 2)/(sigy ** 2) * (rho ** 2) * (y ** 2)\n",
    "\n",
    "    covar_mat = np.array([[sigx**2, rho * sigx * sigy], [rho * sigx * sigy, sigy ** 2]])\n",
    "    xy = multivariate_normal([0, 0], covar_mat, ct)\n",
    "    x_bar_y = xy[abs(xy[:,1] - y) <= epsilon][:,0]\n",
    "    E_x_bar_y= np.mean(x_bar_y)\n",
    "    E_x2_bar_y = np.mean(x_bar_y ** 2)\n",
    "    Var_x_bar_y = np.var(x_bar_y)\n",
    "    ks_statistic, p_value = kstest(x_bar_y, 'norm')\n",
    "    print(f\"sigx, sigy, rho: [{sigx}, {sigy}, {rho}]\")\n",
    "    print(f\"p_value: {p_value}, samples: {len(x_bar_y)}\")\n",
    "    print(f\"y = {y}\")\n",
    "    print(f\"E[X|y] = {E_x_bar_y}, fE[X**2] = {E_x2_bar_y}, fVar(X) = {Var_x_bar_y}\")\n",
    "    print(f\"Analytical: {analytical}\")\n",
    "q1()"
   ]
  },
  {
   "cell_type": "code",
   "execution_count": 75,
   "metadata": {},
   "outputs": [
    {
     "name": "stdout",
     "output_type": "stream",
     "text": [
      "p_z, p_w: (0.0, 0.0)\n",
      "Cov(Z,W): 1.6993599869474214\n",
      "Z: -0.00031463471005996053 2.1990176797205505, W: 0.00021384259031382335 3.4008730348928755\n",
      "Analytical Z: 0 2.2, W: 0 3.4, Cov: 1.7\n",
      "p_value of Z|w : 0.0, samples: 179828\n",
      "w_s = 1.10711584943971\n",
      "Empirical E[Z|w] = 0.5487644823050815, Var(Z|w) = 1.3489341689916539\n",
      "Analytical E[Z|w] = 0.553557924719855, Var(Z|w) = 1.35\n"
     ]
    }
   ],
   "source": [
    "def q2():\n",
    "    rho = 0.7\n",
    "    epsilon = 0.05\n",
    "\n",
    "    covar_mat = np.array([[1, rho], [rho, 1]])\n",
    "    xy = multivariate_normal([0, 0], covar_mat, ct)\n",
    "    x, y = xy[:,0], xy[:,1]\n",
    "    # z = 2x - y, w = x + y\n",
    "    z = 2 * x - y\n",
    "    w = x + y\n",
    "\n",
    "    ks_statistic, p_value1 = kstest(z, 'norm')\n",
    "    ks_statistic, p_value2 = kstest(w, 'norm')\n",
    "    print(f\"p_z, p_w: ({p_value1}, {p_value2})\")\n",
    "    print(f\"Cov(Z,W): {np.cov(np.stack((z, w)))[0][1]}\")\n",
    "    print(f\"Z: {np.mean(z)} {np.var(z)}, W: {np.mean(w)} {np.var(w)}\")\n",
    "    print(f\"Analytical Z: {0} {5 - 4 * rho}, W: {0} {2 + 2 * rho}, Cov: {1 + rho}\")\n",
    "    zw = np.stack((z, w)).T\n",
    "\n",
    "    w_s = normal(0, np.sqrt(2))\n",
    "    z_bar_w = zw[abs(zw[:,1] - w_s) <= epsilon][:,0]\n",
    "    E_z_bar_w = np.mean(z_bar_w)\n",
    "    Var_z_bar_w = np.var(z_bar_w)\n",
    "    ks_statistic, p_value = kstest(z_bar_w, 'norm')\n",
    "    print(f\"p_value of Z|w : {p_value}, samples: {len(z_bar_w)}\")\n",
    "    print(f\"w_s = {w_s}\")\n",
    "    print(f\"Empirical E[Z|w] = {E_z_bar_w}, Var(Z|w) = {Var_z_bar_w}\")\n",
    "\n",
    "    analytical_mean = 0.5 * w_s\n",
    "    analytical_std = 9/2 - 9/2 * rho\n",
    "    print(f\"Analytical E[Z|w] = {analytical_mean}, Var(Z|w) = {analytical_std}\")\n",
    "q2()"
   ]
  },
  {
   "cell_type": "code",
   "execution_count": 2,
   "metadata": {},
   "outputs": [
    {
     "name": "stdout",
     "output_type": "stream",
     "text": [
      "Part a: 0.099445\n",
      "Part b: 0.43165\n",
      "Part c: 0.02006\n",
      "Part d: 0.34016\n"
     ]
    }
   ],
   "source": [
    "def markov_start(start, P, length):\n",
    "    cur = start\n",
    "    seq = []\n",
    "    for i in range(length):\n",
    "        distribution = P[cur].flatten()\n",
    "        v = multinomial(1, distribution)\n",
    "        v = np.where(v == 1)[0][0]\n",
    "        seq.append(v)\n",
    "        cur = v\n",
    "    return seq\n",
    "def markov_rdm(dist, P, length):\n",
    "    cur = np.nonzero(multinomial(1, dist))[0]\n",
    "    seq = [cur]\n",
    "    for i in range(length):\n",
    "        distribution = P[cur].flatten()\n",
    "        v = np.nonzero(multinomial(1, distribution))[0]\n",
    "        seq.append(v)\n",
    "        cur = v\n",
    "    return seq\n",
    "def q3():\n",
    "    P = np.array([[0.3, 0.2, 0.5], [0.5, 0.1, 0.4], [0.3, 0.3, 0.4]])\n",
    "    ct2 = 200000\n",
    "    parta = np.sum([markov_start(0, P, 2) == [1, 0] for t in range(ct2)]) / ct2\n",
    "    print(f\"Part a: {parta}\")\n",
    "    \n",
    "    partb = np.sum([markov_start(0, P, 2)[1] == 2 for t in range(ct2)]) / ct2\n",
    "    print(f\"Part b: {partb}\")\n",
    "\n",
    "    partc = np.sum([markov_rdm([0, 0.5, 0.5], P, 2) == [1, 1, 2] for t in range(ct2)]) / ct2\n",
    "    print(f\"Part c: {partc}\")\n",
    "\n",
    "    partd = np.sum([markov_rdm([0, 0.5, 0.5], P, 2)[2] == 0 for t in range(ct2)]) / ct2\n",
    "    print(f\"Part d: {partd}\")\n",
    "q3()"
   ]
  },
  {
   "cell_type": "code",
   "execution_count": 64,
   "metadata": {},
   "outputs": [
    {
     "name": "stdout",
     "output_type": "stream",
     "text": [
      "[[0.30226423 0.69773577 0.         0.        ]\n",
      " [0.         0.         0.41117027 0.58882973]\n",
      " [0.29828928 0.70171072 0.         0.        ]\n",
      " [0.         0.         0.40946502 0.59053498]]\n"
     ]
    }
   ],
   "source": [
    "def q4():\n",
    "    a = 0.3\n",
    "    b = 0.59\n",
    "    P = np.array([[a, 1-a], [1-b, b]])\n",
    "    ct2 = 200000\n",
    "    cts = np.zeros((4, 4))\n",
    "    for i in range(ct2):\n",
    "        chain = markov_rdm([0.5, 0.5], P, 2)\n",
    "        z_1 = 2*chain[0] + chain[1]\n",
    "        z_2 = 2*chain[1] + chain[2]\n",
    "        cts[z_1[0]][z_2[0]] += 1\n",
    "    row_sum = cts.sum(axis=1).reshape((-1, 1))\n",
    "    print(cts / row_sum)\n",
    "q4()\n",
    "    "
   ]
  },
  {
   "cell_type": "code",
   "execution_count": 59,
   "metadata": {},
   "outputs": [
    {
     "name": "stdout",
     "output_type": "stream",
     "text": [
      "[[ 0  1  2  3]\n",
      " [ 4  5  6  7]\n",
      " [ 8  9 10 11]\n",
      " [12 13 14 15]]\n",
      "[[ 6]\n",
      " [22]\n",
      " [38]\n",
      " [54]]\n",
      "[[0.         0.16666667 0.33333333 0.5       ]\n",
      " [0.18181818 0.22727273 0.27272727 0.31818182]\n",
      " [0.21052632 0.23684211 0.26315789 0.28947368]\n",
      " [0.22222222 0.24074074 0.25925926 0.27777778]]\n"
     ]
    }
   ],
   "source": [
    "np.random.seed(123)\n",
    "a = np.array(list(range(16))).reshape((4, 4))\n",
    "s = a.sum(axis=1).reshape((-1, 1))\n",
    "print(a)\n",
    "print(s)\n",
    "print(a/s)"
   ]
  }
 ],
 "metadata": {
  "interpreter": {
   "hash": "4196bc094c357c3e234779247b9563680b1b9d183fddfea018960c65be8e6147"
  },
  "kernelspec": {
   "display_name": "Python 3.9.7 64-bit",
   "language": "python",
   "name": "python3"
  },
  "language_info": {
   "codemirror_mode": {
    "name": "ipython",
    "version": 3
   },
   "file_extension": ".py",
   "mimetype": "text/x-python",
   "name": "python",
   "nbconvert_exporter": "python",
   "pygments_lexer": "ipython3",
   "version": "3.9.7"
  },
  "orig_nbformat": 2
 },
 "nbformat": 4,
 "nbformat_minor": 2
}
