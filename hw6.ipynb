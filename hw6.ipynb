{
 "cells": [
  {
   "cell_type": "code",
   "execution_count": 2,
   "metadata": {},
   "outputs": [],
   "source": [
    "from math import floor, log\n",
    "from collections import defaultdict\n",
    "import random\n",
    "import tqdm\n",
    "import numpy as np\n",
    "from numpy.random import poisson, binomial, uniform, exponential, multinomial, normal, multivariate_normal\n",
    "from scipy.stats import norm\n",
    "from scipy.stats import kstest, norm\n",
    "import scipy.linalg as la\n",
    "def multi(dist):\n",
    "    v = multinomial(1, dist)\n",
    "    v = np.where(v == 1)[0][0]\n",
    "    return v\n",
    "\n",
    "def markov_start(start, P, length):\n",
    "    '''\n",
    "    Runs Markov Chain with a start value, generates {length} items. \n",
    "    '''\n",
    "    cur = start\n",
    "    seq = []\n",
    "    for i in range(length):\n",
    "        distribution = P[cur].flatten()\n",
    "        v = multinomial(1, distribution)\n",
    "        v = np.where(v == 1)[0][0]\n",
    "        seq.append(v)\n",
    "        cur = v\n",
    "    return seq\n",
    "\n",
    "def markov_start_absorb(start, P, absorb_set):\n",
    "    '''\n",
    "    Runs Markov Chain with a start value, generates {length} items. \n",
    "    '''\n",
    "    cur = start\n",
    "    seq = []\n",
    "    while True:\n",
    "        distribution = P[cur].flatten()\n",
    "        v = multi(distribution)\n",
    "        seq.append(v)\n",
    "        cur = v\n",
    "        if cur in absorb_set:\n",
    "            break\n",
    "    return seq\n",
    "\n",
    "def markov_rdm(dist, P, length):\n",
    "    '''\n",
    "    Runs Markov Chain with a starting distribution, generates {length} + 1 items. \n",
    "    '''\n",
    "    cur = np.nonzero(multinomial(1, dist))[0]\n",
    "    seq = [cur]\n",
    "    for i in range(length):\n",
    "        distribution = P[cur].flatten()\n",
    "        v = np.nonzero(multinomial(1, distribution))[0]\n",
    "        seq.append(v)\n",
    "        cur = v\n",
    "    return seq"
   ]
  },
  {
   "cell_type": "code",
   "execution_count": 3,
   "metadata": {},
   "outputs": [
    {
     "data": {
      "text/plain": [
       "array([0.2 , 0.55, 0.25])"
      ]
     },
     "execution_count": 3,
     "metadata": {},
     "output_type": "execute_result"
    }
   ],
   "source": [
    "mat = np.array([[0.8,0.15,0.05],[0.05,0.9,0.05],[0.05,0.1,0.85]]) \n",
    "from scipy.linalg import lu, solve\n",
    "def stationary(mat):\n",
    "    pl, u = lu(mat.T - np.eye(len(mat)), permute_l = True)\n",
    "    u[-1,:] = 1\n",
    "    targets = np.zeros(len(mat))\n",
    "    targets[-1] = 1\n",
    "    return solve(u, targets)\n",
    "stationary(mat)"
   ]
  },
  {
   "cell_type": "code",
   "execution_count": 4,
   "metadata": {},
   "outputs": [
    {
     "data": {
      "text/plain": [
       "array([0.25961538, 0.43269231, 0.23076923, 0.07692308])"
      ]
     },
     "execution_count": 4,
     "metadata": {},
     "output_type": "execute_result"
    }
   ],
   "source": [
    "stationary(np.array([[0, 1, 0, 0], [0.6, 0, 0.4, 0], [0, 0.75, 0, 0.25], [0, 0, 0.75, 0.25]]))"
   ]
  },
  {
   "cell_type": "code",
   "execution_count": 4,
   "metadata": {},
   "outputs": [
    {
     "name": "stdout",
     "output_type": "stream",
     "text": [
      "P2\n",
      "[[0.4 0.6 0.  0.  0.  0. ]\n",
      " [0.4 0.  0.6 0.  0.  0. ]\n",
      " [0.  0.4 0.  0.6 0.  0. ]\n",
      " [0.  0.  0.4 0.  0.6 0. ]\n",
      " [0.  0.  0.  0.4 0.  0.6]\n",
      " [0.  0.  0.  0.  0.4 0.6]]\n",
      "stationary: \n",
      "[0.0481203  0.07218045 0.10827068 0.16240602 0.24360902 0.36541353] True True\n"
     ]
    }
   ],
   "source": [
    "p = 0.6\n",
    "q = 1 - p\n",
    "p2,p3,p4,p5=p**2,p**3,p**4,p**5\n",
    "q2,q3,q4,q5=q**2,q**3,q**4,q**5\n",
    "t=p/q\n",
    "P2 = np.zeros((6, 6))\n",
    "for i in range(5):\n",
    "    P2[i,i + 1] = p\n",
    "    P2[i + 1,i] = q\n",
    "P2[0,0] = q\n",
    "P2[5, 5] = p\n",
    "print(\"P2\")\n",
    "print(P2)\n",
    "print(\"stationary: \")\n",
    "print(stationary(P2), np.sum(stationary(P2).reshape((1,-1)) @ P2 - stationary(P2)) <= 1e-6, abs(np.sum(stationary(P2)) - 1) <= 1e-6)"
   ]
  },
  {
   "cell_type": "code",
   "execution_count": 8,
   "metadata": {},
   "outputs": [
    {
     "name": "stdout",
     "output_type": "stream",
     "text": [
      "0.04812030075187971\n"
     ]
    }
   ],
   "source": [
    "matlab = q**5/((p*q - 1)*(3*p*q - 1))\n",
    "print(matlab)"
   ]
  },
  {
   "cell_type": "code",
   "execution_count": 5,
   "metadata": {},
   "outputs": [
    {
     "name": "stdout",
     "output_type": "stream",
     "text": [
      "[0.048120300751879716, 0.07218045112781957, 0.10827067669172934, 0.16240601503759397, 0.24360902255639094, 0.36541353383458636]\n"
     ]
    }
   ],
   "source": [
    "def q2i():\n",
    "    pi0 = 1/np.sum([(p/q) ** i for i in range(6)])\n",
    "    pi1_5 = [(p/q) ** i * pi0 for i in range(1, 6)]\n",
    "    print([pi0] + pi1_5)\n",
    "q2i()"
   ]
  },
  {
   "cell_type": "code",
   "execution_count": 96,
   "metadata": {},
   "outputs": [
    {
     "name": "stderr",
     "output_type": "stream",
     "text": [
      "100%|██████████| 15000/15000 [00:13<00:00, 1145.30it/s]\n"
     ]
    },
    {
     "name": "stdout",
     "output_type": "stream",
     "text": [
      "[21.20406667 13.7484      9.23633333  6.18606667  4.15333333  2.75993333] [0.04716076 0.07273574 0.10826807 0.16165361 0.24077047 0.36232759]\n"
     ]
    },
    {
     "name": "stderr",
     "output_type": "stream",
     "text": [
      "100%|██████████| 15000/15000 [01:11<00:00, 209.11it/s]"
     ]
    },
    {
     "name": "stdout",
     "output_type": "stream",
     "text": [
      "[21.05866667 33.167      54.90126667 65.0736     71.13293333 73.61746667] [0.04748639 0.03015045 0.01821452 0.01536721 0.01405819 0.01358373]\n"
     ]
    },
    {
     "name": "stderr",
     "output_type": "stream",
     "text": [
      "\n"
     ]
    }
   ],
   "source": [
    "ct = 15000\n",
    "def simulate():\n",
    "    sums = [0]*6\n",
    "    for i in tqdm.tqdm(range(ct)):\n",
    "        for j in range(6):\n",
    "            sums[j] += len(markov_start_absorb(j, P2, {j}))\n",
    "    sums2 = np.array(sums) / ct\n",
    "    print(sums2, 1/sums2)\n",
    "simulate()\n",
    "\n",
    "def simulate2_to_zero():\n",
    "    sums = [0]*6\n",
    "    for i in tqdm.tqdm(range(ct)):\n",
    "        for j in range(6):\n",
    "            sums[j] += len(markov_start_absorb(j, P2, {0}))\n",
    "    sums2 = np.array(sums) / ct\n",
    "    print(sums2, 1/sums2)\n",
    "simulate2_to_zero()"
   ]
  },
  {
   "cell_type": "code",
   "execution_count": 15,
   "metadata": {},
   "outputs": [
    {
     "name": "stdout",
     "output_type": "stream",
     "text": [
      "0.030331753554502364 0.030331753554502777 0.04812030075188032\n"
     ]
    }
   ],
   "source": [
    "matlab1 = -(p**4 - 2*p**3 + 4*p**2 - 3*p + 1)/(p - 1)**5\n",
    "matlab2 = -(p**2*q**2 - 3*p*q + 1)/(p**3*q**2 - 3*p**2*q**2 - 3*p**2*q + 4*p*q + p - 1)\n",
    "matlab3 = -(p**2*q**2 - 3*p*q + 1)/(p**3*q**2 - 3*p**2*q**2 - 3*p**2*q + 4*p*q + p - 1)\n",
    "print(1/matlab1, 1/matlab2, 1/(1 + p * matlab3))"
   ]
  },
  {
   "cell_type": "code",
   "execution_count": 9,
   "metadata": {},
   "outputs": [
    {
     "name": "stdout",
     "output_type": "stream",
     "text": [
      "[[0.  0.6 0.  0.  0. ]\n",
      " [0.4 0.  0.6 0.  0. ]\n",
      " [0.  0.4 0.  0.6 0. ]\n",
      " [0.  0.  0.4 0.  0.6]\n",
      " [0.  0.  0.  0.4 0.6]]\n",
      "[32.96875 53.28125 65.15625 71.40625 73.90625]\n",
      "0.048120300751879834\n",
      "0.04812030075187982\n",
      "[0.04812030075187972, 0.04812030075187972, 0.04812030075187972]\n",
      "[0.04812030075187971]\n",
      "[0.04812030075187971, 0.048120300751879716]\n"
     ]
    }
   ],
   "source": [
    "from scipy.linalg import inv\n",
    "def verify(h2):\n",
    "    h1 = 1 + p * h2\n",
    "    ans = 1 + p * h1\n",
    "    return 1/ans\n",
    "\n",
    "def verifyh1(h1):\n",
    "    ans = 1 + p * h1\n",
    "    return 1/ans\n",
    "def q23():\n",
    "    Z = np.zeros((5, 5))\n",
    "    for i in range(4):\n",
    "        Z[i,i+1] = p\n",
    "        Z[i+1,i] = q\n",
    "    Z[4,4] = p\n",
    "    print(Z)\n",
    "    solution = inv(np.eye(5) - Z) @ np.ones((5, 1)).flatten()\n",
    "    print(solution)\n",
    "    print(1/(1 + p * solution[0]))\n",
    "    print(verify(solution[1]))\n",
    "    # solution = (inv(np.eye(6) - P2) @ np.ones((6, 1))).flatten()\n",
    "    # print(solution)\n",
    "\n",
    "    a,b,c,d,e = 1-2*q*p,-p2, q2, -q2, -1-q-t\n",
    "    thing1 = (2*d-e*b)/(a*d-c*b)\n",
    "\n",
    "    thing2 = (-2 * q2 - p2 - p2 * q - p3 / q) / ((-q2) * (-p2 + 1 - 2 * q * p))\n",
    "    thing3 = (2*q3 + p2*q + p2 * q2 + p3) / q5\n",
    "\n",
    "    thing4 = (q5 + 2*q3*p + p3*q + p3*q2+p4)/q5\n",
    "    \n",
    "    thing5 = 1 + p*thing4\n",
    "    thing6 = (q5 + q5*p + 2*q3*p2+p4*q+p4*q2+p5) / q5\n",
    "    h2s = [thing1, thing2, thing3]\n",
    "    h1s = [thing4]\n",
    "    sols = [thing5, thing6]\n",
    "    print([verify(w) for w in h2s])\n",
    "    print([verifyh1(w) for w in h1s])\n",
    "    print([1/w for w in sols])\n",
    "q23()"
   ]
  },
  {
   "cell_type": "code",
   "execution_count": 38,
   "metadata": {},
   "outputs": [
    {
     "name": "stdout",
     "output_type": "stream",
     "text": [
      "mat: \n",
      "[[0.25 0.75 0.   0.   0.   0.  ]\n",
      " [0.25 0.   0.75 0.   0.   0.  ]\n",
      " [0.   0.25 0.   0.75 0.   0.  ]\n",
      " [0.   0.   0.25 0.   0.75 0.  ]\n",
      " [0.   0.   0.   0.25 0.   0.75]\n",
      " [0.   0.   0.   0.   0.25 0.75]]\n",
      "mat.T: \n",
      "[[0.25 0.25 0.   0.   0.   0.  ]\n",
      " [0.75 0.   0.25 0.   0.   0.  ]\n",
      " [0.   0.75 0.   0.25 0.   0.  ]\n",
      " [0.   0.   0.75 0.   0.25 0.  ]\n",
      " [0.   0.   0.   0.75 0.   0.25]\n",
      " [0.   0.   0.   0.   0.75 0.75]]\n",
      "pi: (null space of P.T) [0.004 0.012 0.035 0.105 0.314 0.943]\n",
      "x[i] - x[0],             [0.    0.008 0.031 0.101 0.31  0.939]\n",
      "closedform x[i] - x[0],  [0.004 0.008 0.031 0.101 0.31  0.939]\n",
      "closedform2 x[i] - x[0], [0.004 0.008 0.031 0.101 0.31  0.939]\n",
      "should be pi:  [0.004 0.012 0.035 0.105 0.314 0.943]\n",
      "sum n 2-5:     178.0\n",
      "closed n 2-5:  178.0\n",
      "true 2-5:    1.397\n",
      "closed 2-5:  1.397\n",
      "full_sum:  1.4122749547964117\n",
      "norm_full_sum:  [0.00274725 0.00824176 0.02472527 0.07417582 0.22252747 0.66758242] [[0.00274725 0.00824176 0.02472527 0.07417582 0.22252747 0.66758242]]\n",
      "emp_sum:   1.412274954796419\n",
      "364.0 364.0 364.0\n",
      "pi: (null space of P.T) [0.003 0.008 0.025 0.074 0.223 0.668]\n",
      "pi2 empirical:  [0.003 0.008 0.025 0.074 0.223 0.668]\n",
      "0.0027472527472527475\n"
     ]
    }
   ],
   "source": [
    "def q2():\n",
    "    p = 0.75\n",
    "    q = 1 - p\n",
    "    mat = np.zeros((6, 6))\n",
    "    for i in range(5):\n",
    "        mat[i,i + 1] = p\n",
    "        mat[i + 1,i] = q\n",
    "    mat[0,0] = q\n",
    "    mat[5, 5] = p\n",
    "    print(\"mat: \")\n",
    "    print(mat)\n",
    "    print(\"mat.T: \")\n",
    "    print(mat.T)\n",
    "    pi = la.null_space(mat.T - np.eye(6)).flatten()\n",
    "    # print(pi.reshape((1, 6)) @ mat)\n",
    "    print(\"pi: (null space of P.T)\", np.around(pi, decimals=3))\n",
    "\n",
    "    t = p / q\n",
    "    d = pi[1] - pi[0]\n",
    "    # print(\"p1 - p0\", null[1] - null[0])\n",
    "    # print(\"(p/q) (p1 - p0)\", t * (null[1] - null[0]))\n",
    "    # print(\"p2 - p1\", null[2] - null[1])\n",
    "\n",
    "    emp_inc = [pi[i + 1] - pi[i] for i in range(5)]\n",
    "    ana_inc = [t ** i *  (pi[1] - pi[0]) for i in range(5)]\n",
    "\n",
    "    true_x_min_0 = [pi[i] - pi[0] for i in range(6)]\n",
    "    clos_x_min_0 = list([pi[0]]) + [np.sum([t ** j * d for j in range(i + 1)]).item() for i in range(5)]\n",
    "    clos2_x_min_0 = list([pi[0]]) + [d * ((1 - t ** (i + 1)) / (1 - t)) for i in range(5)]\n",
    "    print(\"x[i] - x[0],            \", np.around(true_x_min_0, decimals = 3))\n",
    "    print(\"closedform x[i] - x[0], \", np.around(clos_x_min_0, decimals = 3))\n",
    "    print(\"closedform2 x[i] - x[0],\", np.around(clos2_x_min_0, decimals = 3))\n",
    "\n",
    "    \n",
    "\n",
    "    # print(\"emp_inc, \", emp_inc)\n",
    "    # print(\"ana_inc\", ana_inc)\n",
    "\n",
    "    clos2_orig = list([pi[0]]) + [d * ((1 - t ** (i + 1)) / (1 - t)) + pi[0] for i in range(5)]\n",
    "    print(\"should be pi: \", np.around(clos2_orig, decimals=3))\n",
    "    \n",
    "    emp_2_5 = np.sum(pi[2:6])\n",
    "    ana_2_5 = np.sum([d * (1 - t ** (i + 1)) / (1 - t) + pi[0] for i in range(1, 5)])\n",
    "\n",
    "    emp_sum_n_1_4 = np.sum([(1 - t ** (i + 1)) / (1 - t)  for i in range(1, 5)])\n",
    "    ana_sum_n_1_4 = 4/(1-t) - t ** 2 * (1 - t ** 4) / ((1 - t) ** 2)\n",
    "    # ana2_2_5 = -d * t * (1 - t ** 4) / (1 - t) + 4 * pi[0] + 4 * d / (1 - t)\n",
    "    print(\"sum n 2-5:    \", np.around(emp_sum_n_1_4, decimals = 3))\n",
    "    print(\"closed n 2-5: \", np.around(ana_sum_n_1_4, decimals = 3))\n",
    "\n",
    "    print(\"true 2-5:   \", np.around(emp_2_5, decimals = 3))\n",
    "    print(\"closed 2-5: \", np.around(ana_2_5, decimals = 3))\n",
    "    # print(\"closed2 2-5:\", np.around(ana2_2_5, decimals = 3))\n",
    "\n",
    "    full_sum = np.sum(pi)\n",
    "    emp_sum = pi[0] + pi[1] + 4 * pi[0] + d * 4 / (1 - t) - d * t ** 2 * (1 - t ** 4) / ((1 - t) ** 2)\n",
    "\n",
    "    print(\"full_sum: \", full_sum)\n",
    "    print(\"norm_full_sum: \", pi / full_sum, (pi / full_sum).reshape((1, 6)) @ mat)\n",
    "\n",
    "    print(\"emp_sum:  \", emp_sum)\n",
    "    thing = 5 + (1-q)/q + 4 * (1-2 * q) / (1 - t) / q - (1 - 2 * q) * t ** 2 * (1 - t ** 4) / (1 - t) / (1 - t) / q\n",
    "    thing2 = 1 + p/q + p ** 2 / q ** 2 * (1 - t ** 4) / (1 - t)\n",
    "    thing3 = q ** 5 / (p ** 5 + p**4 * q + p**3 * q**2 + p **2 * q**3 + p * q**4 + q ** 5)\n",
    "    print(thing, thing2, 1/thing3)\n",
    "\n",
    "    pi_z = (1-t)/(1-t ** 6)\n",
    "    pi_1_5 = [pi_z * (p/q) ** i for i in range(1, 6)]\n",
    "    pi2 = [pi_z] + pi_1_5\n",
    "\n",
    "    print(\"pi: (null space of P.T)\", np.around(pi/np.sum(pi), decimals=3))\n",
    "    print(\"pi2 empirical: \", np.around(pi2, decimals=3))\n",
    "    ans = 1 / thing\n",
    "    print(ans)\n",
    "    \n",
    "def q2_cut():\n",
    "    p = 0.65\n",
    "    q = 1 - p\n",
    "    mat = np.zeros((6, 6))\n",
    "    for i in range(5):\n",
    "        mat[i,i + 1] = p\n",
    "        mat[i + 1,i] = q\n",
    "    mat[0,0] = q\n",
    "    mat[5, 5] = p\n",
    "    assert(all(np.sum(mat, axis=1) == 1))\n",
    "    print(f\"p: {p}, q: {q}\")\n",
    "    print(mat)\n",
    "    for row in mat:\n",
    "        for v in row:\n",
    "            print(np.around(v, decimals=2), end=\" \")\n",
    "        print()\n",
    "    pi = la.null_space(mat.T - np.eye(6)).flatten()\n",
    "    # print(pi.reshape((1, 6)) @ mat)\n",
    "    print(\"pi: (null space of P.T)\", np.around(pi/np.sum(pi), decimals=7))\n",
    "\n",
    "q2()"
   ]
  },
  {
   "cell_type": "code",
   "execution_count": 32,
   "metadata": {},
   "outputs": [
    {
     "name": "stdout",
     "output_type": "stream",
     "text": [
      "[[ 70.30522996]\n",
      " [106.62343071]\n",
      " [124.64092342]\n",
      " [132.80418873]\n",
      " [135.66133159]]\n",
      "[0.02766052]\n",
      "things:  106.62343071339319 106.62343071339319 106.6234307133932 106.62343071339326 106.62343071339328\n",
      "1/t1s:  [0.02141, 0.02766, 0.02766]\n",
      "h1:  70.30522996370557\n",
      "1/ans3:  0.027660516410831174\n",
      "0.027660516410831153 0.0276605164108312\n"
     ]
    }
   ],
   "source": [
    "def q2iii():\n",
    "    P = np.zeros((5, 5))\n",
    "    p = 0.65\n",
    "    q = 1- p\n",
    "    for i in range(4):\n",
    "        P[i,i+1] = p\n",
    "        P[i+1,i] = q\n",
    "    P[4,4] = p\n",
    "    # print(\"P: \")\n",
    "    # print(P)\n",
    "    # print(\"I - P\")\n",
    "    # print(np.eye(5) - P)\n",
    "    # print(\"inv(I - P)\")\n",
    "    # print(np.linalg.inv(np.eye(5) - P))\n",
    "    # print(\"(I - P) @ 1 vector\")\n",
    "    # print(np.linalg.inv(np.eye(5) - P) @ np.ones((5, 1)))\n",
    "    sol = np.linalg.inv(np.eye(5) - P) @ np.ones((5, 1))\n",
    "    print(sol)\n",
    "    print(1/ (1 + 0.5*sol[0]))\n",
    "    val = -(p**2*q**2 - 3*p*q + 1)/(p**3*q**2 - 3*p**2*q**2 - 3*p**2*q + 4*p*q + p - 1)\n",
    "\n",
    "    ans = 1 + 0.5 * sol[0][0]\n",
    "    ans2 = 1 + 0.5 * val\n",
    "\n",
    "    a, b, c, d, e = 1 - 2 * q * p, -p * p, q * q, - q * q, -1 - q - p/q\n",
    "    thing = (2*d - e * b) / (a * d - c * b)\n",
    "    thing2 = (2 * (-(q ** 2)) - (-1 - q - p/q) * (-(p ** 2))) / ((1 - 2 * q * p) * (-q ** 2) + (q ** 2 * p ** 2))\n",
    "\n",
    "    q2, q3, q4, q5 = q**2, q**3, q**4, q**5\n",
    "    p2, p3, p4, p5 = p**2, p**3, p**4, p**5\n",
    "    thing3 = (-2 * q2 - p2 - q * p2 - p * p2 / q) / (-q2 + 2 * q * q2 * p + q2 * p2)\n",
    "    thing4 = (-2 * q3 - q * p2 - q2 * p2 - p3) / (q3 * (-1 + 2*p*q + p2))\n",
    "    thing5 = (2* q3 + q * p2 + q2 * p2 + p3) / q5\n",
    "    h1 = 1 + p * thing\n",
    "    print(\"things: \", thing, thing2, thing3, thing4, thing5)\n",
    "\n",
    "\n",
    "    t0 = p/q+p2/q2+p3/q3+p4/q4+p5/q5\n",
    "    t1 = 0.5 * (1 + p * thing)\n",
    "    t2 = 0.5 * ((q5 + 2*q3*p + q*p3 + q2*p3 + p4)/q5)\n",
    "    ts = [t0, t1, t2]\n",
    "    print(\"1/t1s: \", [round(1/(1 + n),5) for n in ts])\n",
    "    print(\"h1: \", h1)\n",
    "    ans3 = 1 + 0.5 * h1\n",
    "    print(\"1/ans3: \", 1/ans3)\n",
    "\n",
    "    # print(sol)\n",
    "    print(1/ans, 1/ans2)\n",
    "    # print((1-p/q)/(1-(p/q) ** 6))\n",
    "\n",
    "q2iii()\n"
   ]
  },
  {
   "cell_type": "code",
   "execution_count": 52,
   "metadata": {},
   "outputs": [
    {
     "name": "stdout",
     "output_type": "stream",
     "text": [
      "[0.2  0.55 0.25]\n"
     ]
    }
   ],
   "source": [
    "def q3():\n",
    "    P = np.array([[0.8, 0.15, 0.05], [0.05, 0.9, 0.05], [0.05, 0.1, 0.85]])\n",
    "    print(stationary(P))\n",
    "q3()"
   ]
  },
  {
   "cell_type": "code",
   "execution_count": 51,
   "metadata": {},
   "outputs": [
    {
     "name": "stdout",
     "output_type": "stream",
     "text": [
      "[0.16666667 0.16666667 0.16666667 0.16666667 0.16666667 0.16666667]\n"
     ]
    }
   ],
   "source": [
    "from scipy.linalg import lu, solve\n",
    "def q5():\n",
    "    P = np.zeros((6, 6))\n",
    "    for i in range(5):\n",
    "        P[i,i+1] = 0.5\n",
    "        P[i+1,i] = 0.5\n",
    "    P[0,0] = 0.5\n",
    "    P[5,5] = 0.5\n",
    "    print(stationary(P))\n",
    "    # print(\"Original: \")\n",
    "    # print(P)\n",
    "    # pl, u = lu(P - np.eye(6), permute_l = True)\n",
    "    # print(\"Row reduced: \")\n",
    "    # print(u)\n",
    "    # u[5,:] = 1\n",
    "    # print(\"added row of ones: \")\n",
    "    # print(u)\n",
    "    # targets = np.zeros(6)\n",
    "    # targets[5] = 1\n",
    "    # print(\"final: \")\n",
    "    # print(solve(u, targets))\n",
    "q5()"
   ]
  }
 ],
 "metadata": {
  "interpreter": {
   "hash": "00eb4842bf1b72b71abf62257ce3e38328ef92c154c737ec21cf3c1f5526806a"
  },
  "kernelspec": {
   "display_name": "Python 3.7.11 ('smart')",
   "language": "python",
   "name": "python3"
  },
  "language_info": {
   "codemirror_mode": {
    "name": "ipython",
    "version": 3
   },
   "file_extension": ".py",
   "mimetype": "text/x-python",
   "name": "python",
   "nbconvert_exporter": "python",
   "pygments_lexer": "ipython3",
   "version": "3.7.11"
  },
  "orig_nbformat": 4
 },
 "nbformat": 4,
 "nbformat_minor": 2
}
