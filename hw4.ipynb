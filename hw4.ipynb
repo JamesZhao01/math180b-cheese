{
 "cells": [
  {
   "cell_type": "code",
   "execution_count": 35,
   "metadata": {},
   "outputs": [],
   "source": [
    "from math import floor, log\n",
    "from collections import defaultdict\n",
    "import random\n",
    "import tqdm\n",
    "import numpy as np\n",
    "from numpy.random import poisson, binomial, uniform, exponential, multinomial, normal, multivariate_normal\n",
    "from scipy.stats import norm\n",
    "from scipy.stats import kstest, norm\n",
    "\n",
    "def dice():\n",
    "    return random.randint(1, 6)\n",
    "ct = 10000\n",
    "\n",
    "def multi(dist):\n",
    "    v = multinomial(1, dist)\n",
    "    v = np.where(v == 1)[0][0]\n",
    "    return v\n",
    "\n",
    "def markov_start(start, P, length):\n",
    "    '''\n",
    "    Runs Markov Chain with a starting distribution, generates {length} items. \n",
    "    '''\n",
    "    cur = start\n",
    "    seq = []\n",
    "    for i in range(length):\n",
    "        distribution = P[cur].flatten()\n",
    "        v = multinomial(1, distribution)\n",
    "        v = np.where(v == 1)[0][0]\n",
    "        seq.append(v)\n",
    "        cur = v\n",
    "    return seq\n",
    "\n",
    "def markov_start_absorb(start, P, absorb_set):\n",
    "    '''\n",
    "    Runs Markov Chain with a starting distribution, generates {length} items. \n",
    "    '''\n",
    "    cur = start\n",
    "    seq = []\n",
    "    while True:\n",
    "        distribution = P[cur].flatten()\n",
    "        v = multi(distribution)\n",
    "        seq.append(v)\n",
    "        cur = v\n",
    "        if cur in absorb_set:\n",
    "            break\n",
    "    return seq\n",
    "\n",
    "def markov_rdm(dist, P, length):\n",
    "    '''\n",
    "    Runs Markov Chain with a starting distribution, generates {length} + 1 items. \n",
    "    '''\n",
    "    cur = np.nonzero(multinomial(1, dist))[0]\n",
    "    seq = [cur]\n",
    "    for i in range(length):\n",
    "        distribution = P[cur].flatten()\n",
    "        v = np.nonzero(multinomial(1, distribution))[0]\n",
    "        seq.append(v)\n",
    "        cur = v\n",
    "    return seq"
   ]
  },
  {
   "cell_type": "code",
   "execution_count": 14,
   "metadata": {},
   "outputs": [
    {
     "name": "stdout",
     "output_type": "stream",
     "text": [
      "[[0.0990991  0.30540541 0.2018018  0.39369369]\n",
      " [0.         0.4302521  0.19663866 0.37310924]\n",
      " [0.         0.         0.57428215 0.42571785]\n",
      " [0.         0.         0.         1.        ]]\n"
     ]
    }
   ],
   "source": [
    "def q1():\n",
    "    dist = [0.1, 0.3, 0.2, 0.4]\n",
    "    mat = np.zeros((4, 4))\n",
    "    for i in range(1000):\n",
    "        best = 0\n",
    "        for j in range(200):\n",
    "            prev = best\n",
    "            best = max(best, multi(dist))\n",
    "            mat[prev, best] += 1\n",
    "    row_sums = np.sum(mat, axis = 1).reshape((4, 1))\n",
    "    print(mat / row_sums)\n",
    "\n",
    "q1()"
   ]
  },
  {
   "cell_type": "code",
   "execution_count": 34,
   "metadata": {},
   "outputs": [
    {
     "name": "stdout",
     "output_type": "stream",
     "text": [
      "=== Trial 0 ===\n",
      "alpha: 0.7369670786503182, initial_dist: [0.7265213319661465, 0.27347866803385346]\n"
     ]
    },
    {
     "name": "stderr",
     "output_type": "stream",
     "text": [
      "100%|██████████| 10000/10000 [00:00<00:00, 16077.26it/s]\n"
     ]
    },
    {
     "name": "stdout",
     "output_type": "stream",
     "text": [
      "Empirical: 0.5569\n",
      "Analytical: 0.5532260251707446\n",
      "=== Trial 1 ===\n",
      "alpha: 0.8123860587355617, initial_dist: [0.10036704695407495, 0.899632953045925]\n"
     ]
    },
    {
     "name": "stderr",
     "output_type": "stream",
     "text": [
      "100%|██████████| 10000/10000 [00:00<00:00, 16528.91it/s]\n"
     ]
    },
    {
     "name": "stdout",
     "output_type": "stream",
     "text": [
      "Empirical: 0.6154\n",
      "Analytical: 0.6219368362596134\n",
      "=== Trial 2 ===\n",
      "alpha: 0.0561603057874277, initial_dist: [0.996267166035717, 0.0037328339642830333]\n"
     ]
    },
    {
     "name": "stderr",
     "output_type": "stream",
     "text": [
      "100%|██████████| 10000/10000 [00:00<00:00, 16142.10it/s]\n"
     ]
    },
    {
     "name": "stdout",
     "output_type": "stream",
     "text": [
      "Empirical: 0.1547\n",
      "Analytical: 0.15026555159834876\n",
      "=== Trial 3 ===\n",
      "alpha: 0.28461132193349203, initial_dist: [0.6118976514014131, 0.38810234859858694]\n"
     ]
    },
    {
     "name": "stderr",
     "output_type": "stream",
     "text": [
      "100%|██████████| 10000/10000 [00:00<00:00, 16750.51it/s]\n"
     ]
    },
    {
     "name": "stdout",
     "output_type": "stream",
     "text": [
      "Empirical: 0.4574\n",
      "Analytical: 0.460030510279387\n",
      "=== Trial 4 ===\n",
      "alpha: 0.6989141315579425, initial_dist: [0.7725125698918722, 0.22748743010812777]\n"
     ]
    },
    {
     "name": "stderr",
     "output_type": "stream",
     "text": [
      "100%|██████████| 10000/10000 [00:00<00:00, 16474.51it/s]"
     ]
    },
    {
     "name": "stdout",
     "output_type": "stream",
     "text": [
      "Empirical: 0.5364\n",
      "Analytical: 0.5314816078910342\n"
     ]
    },
    {
     "name": "stderr",
     "output_type": "stream",
     "text": [
      "\n"
     ]
    }
   ],
   "source": [
    "def q2i():\n",
    "    alpha = np.random.random()\n",
    "    P_0 = np.random.random()\n",
    "    initial_dist = [P_0, 1 - P_0]\n",
    "    print(f\"alpha: {alpha}, initial_dist: {initial_dist}\")\n",
    "\n",
    "    P = np.array([[alpha, 1 - alpha], [1 - alpha, alpha]])\n",
    "\n",
    "    success = 0\n",
    "    for i in tqdm.tqdm(range(ct)):\n",
    "        start = multi(initial_dist)\n",
    "        chain = markov_start(start, P, 3)\n",
    "        if start == chain[2]:\n",
    "            success += 1\n",
    "    print(f\"Empirical: {success / ct}\")\n",
    "    print(f\"Analytical: {alpha ** 3 + 3 * (1 - alpha) ** 2 * alpha}\")\n",
    "for i in range(5):\n",
    "    print(f\"=== Trial {i} ===\")\n",
    "    q2i()\n",
    "\n",
    "    "
   ]
  },
  {
   "cell_type": "code",
   "execution_count": 33,
   "metadata": {},
   "outputs": [
    {
     "name": "stdout",
     "output_type": "stream",
     "text": [
      "=== Trial 0 ===\n",
      "alpha: 0.9712301930155816, initial_dist: [0.997848159474362, 0.0021518405256379936], N: 4\n"
     ]
    },
    {
     "name": "stderr",
     "output_type": "stream",
     "text": [
      "100%|██████████| 10000/10000 [00:00<00:00, 10303.96it/s]\n"
     ]
    },
    {
     "name": "stdout",
     "output_type": "stream",
     "text": [
      "Empirical: 0.8942\n",
      "Analytical: 0.889792416632703\n",
      "=== Trial 1 ===\n",
      "alpha: 0.5816266507340696, initial_dist: [0.030509287603755042, 0.969490712396245], N: 3\n"
     ]
    },
    {
     "name": "stderr",
     "output_type": "stream",
     "text": [
      "100%|██████████| 10000/10000 [00:00<00:00, 12650.29it/s]\n"
     ]
    },
    {
     "name": "stdout",
     "output_type": "stream",
     "text": [
      "Empirical: 0.1986\n",
      "Analytical: 0.1967582242520714\n",
      "=== Trial 2 ===\n",
      "alpha: 0.23005530370936134, initial_dist: [0.2427146140692188, 0.7572853859307812], N: 4\n"
     ]
    },
    {
     "name": "stderr",
     "output_type": "stream",
     "text": [
      "100%|██████████| 10000/10000 [00:00<00:00, 10804.97it/s]\n"
     ]
    },
    {
     "name": "stdout",
     "output_type": "stream",
     "text": [
      "Empirical: 0.0041\n",
      "Analytical: 0.002801102491850807\n",
      "=== Trial 3 ===\n",
      "alpha: 0.21548827495809142, initial_dist: [0.37822180924689486, 0.6217781907531051], N: 3\n"
     ]
    },
    {
     "name": "stderr",
     "output_type": "stream",
     "text": [
      "100%|██████████| 10000/10000 [00:00<00:00, 12903.28it/s]\n"
     ]
    },
    {
     "name": "stdout",
     "output_type": "stream",
     "text": [
      "Empirical: 0.0097\n",
      "Analytical: 0.01000624042224453\n",
      "=== Trial 4 ===\n",
      "alpha: 0.7345172115084547, initial_dist: [0.6860249074983729, 0.31397509250162714], N: 3\n"
     ]
    },
    {
     "name": "stderr",
     "output_type": "stream",
     "text": [
      "100%|██████████| 10000/10000 [00:00<00:00, 13046.32it/s]"
     ]
    },
    {
     "name": "stdout",
     "output_type": "stream",
     "text": [
      "Empirical: 0.3995\n",
      "Analytical: 0.3962834456007585\n"
     ]
    },
    {
     "name": "stderr",
     "output_type": "stream",
     "text": [
      "\n"
     ]
    }
   ],
   "source": [
    "def q2ii():\n",
    "    N = np.random.randint(3, 5)\n",
    "    alpha = np.random.random()\n",
    "    P_0 = np.random.random()\n",
    "    initial_dist = [P_0, 1 - P_0]\n",
    "    print(f\"alpha: {alpha}, initial_dist: {initial_dist}, N: {N}\")\n",
    "\n",
    "    P = np.array([[alpha, 1 - alpha], [1 - alpha, alpha]])\n",
    "\n",
    "    success = 0\n",
    "    for i in tqdm.tqdm(range(ct)):\n",
    "        start = multi(initial_dist)\n",
    "        chain = markov_start(start, P, N + 1)\n",
    "        s_chain = sum(chain)\n",
    "        if s_chain == 0 or s_chain == N + 1:\n",
    "            success += 1\n",
    "    print(f\"Empirical: {success / ct}\")\n",
    "    print(f\"Analytical: {alpha ** N}\")\n",
    "for i in range(5):\n",
    "    print(f\"=== Trial {i} ===\")\n",
    "    q2ii()"
   ]
  },
  {
   "cell_type": "code",
   "execution_count": 39,
   "metadata": {},
   "outputs": [
    {
     "name": "stderr",
     "output_type": "stream",
     "text": [
      "100%|██████████| 10000/10000 [00:00<00:00, 25510.22it/s]"
     ]
    },
    {
     "name": "stdout",
     "output_type": "stream",
     "text": [
      "Empirical Success: 0.2472\n",
      "Analytical Success: 0.25\n",
      "=== === ===\n",
      "Empirical Mean Time: 2.4912\n",
      "Analytical Success: 2.5\n"
     ]
    },
    {
     "name": "stderr",
     "output_type": "stream",
     "text": [
      "\n"
     ]
    }
   ],
   "source": [
    "def q3():\n",
    "    P = np.array([[1, 0, 0], [0.1, 0.6, 0.3], [0, 0, 1]])\n",
    "\n",
    "    success = 0\n",
    "    absorb = set([0, 2])\n",
    "    chain_sum = 0\n",
    "    for i in tqdm.tqdm(range(ct)):\n",
    "        chain = markov_start_absorb(1, P, absorb)\n",
    "        if chain[-1] == 0:\n",
    "            success += 1\n",
    "        chain_sum += len(chain)\n",
    "    print(f\"Empirical Success: {success / ct}\")\n",
    "    print(f\"Analytical Success: 0.25\")\n",
    "    print(\"=== === ===\")\n",
    "    print(f\"Empirical Mean Time: {chain_sum / ct}\")\n",
    "    print(f\"Analytical Success: 2.5\")\n",
    "q3()"
   ]
  },
  {
   "cell_type": "code",
   "execution_count": 44,
   "metadata": {},
   "outputs": [
    {
     "name": "stderr",
     "output_type": "stream",
     "text": [
      "100%|██████████| 10000/10000 [00:01<00:00, 7385.57it/s]"
     ]
    },
    {
     "name": "stdout",
     "output_type": "stream",
     "text": [
      "Empirical: 0.367\n",
      "Analyticall: 0.36\n"
     ]
    },
    {
     "name": "stderr",
     "output_type": "stream",
     "text": [
      "\n"
     ]
    }
   ],
   "source": [
    "def q4():\n",
    "    P = np.array([[1, 0, 0, 0], [0.1, 0.2, 0.5, 0.2], [0.1, 0.2, 0.6, 0.1], [0.2, 0.2, 0.3, 0.3]])\n",
    "    \n",
    "    absorb = set([0])\n",
    "    success = 0\n",
    "    for i in tqdm.tqdm(range(ct)):\n",
    "        chain = markov_start_absorb(2, P, absorb)\n",
    "        if all(f != 1 for f in chain):\n",
    "            success += 1\n",
    "\n",
    "    print(f\"Empirical: {success / ct}\")\n",
    "    print(f\"Analyticall: 0.36\")\n",
    "q4()"
   ]
  },
  {
   "cell_type": "code",
   "execution_count": null,
   "metadata": {},
   "outputs": [],
   "source": []
  },
  {
   "cell_type": "code",
   "execution_count": 51,
   "metadata": {},
   "outputs": [
    {
     "name": "stdout",
     "output_type": "stream",
     "text": [
      "[[3.91304348]\n",
      " [3.47826087]]\n"
     ]
    },
    {
     "name": "stderr",
     "output_type": "stream",
     "text": [
      "100%|██████████| 10000/10000 [00:00<00:00, 15698.59it/s]"
     ]
    },
    {
     "name": "stdout",
     "output_type": "stream",
     "text": [
      "Empirical: 3.913\n",
      "Analytical: 3.912\n"
     ]
    },
    {
     "name": "stderr",
     "output_type": "stream",
     "text": [
      "\n"
     ]
    }
   ],
   "source": [
    "def q5():\n",
    "    P = np.array([[1, 0, 0, 0], [0.1, 0.3, 0.5, 0.1], [0.2, 0.1, 0.6, 0.1], [0, 0, 0, 1]])\n",
    "    # Q = 1 2\n",
    "    Q = np.array([[0.3, 0.5], [0.1, 0.6]])\n",
    "    print(np.linalg.inv(np.eye(2) - Q) @ np.ones((2, 1)))\n",
    "    absorb = set([0, 3])\n",
    "    sum_len = 0\n",
    "    for i in tqdm.tqdm(range(ct)):\n",
    "        chain = markov_start_absorb(1, P, absorb)\n",
    "        sum_len += len(chain)\n",
    "    print(f\"Empirical: {sum_len / ct}\")\n",
    "    print(f\"Analytical: 3.912\")\n",
    "q5()"
   ]
  },
  {
   "cell_type": "code",
   "execution_count": 53,
   "metadata": {},
   "outputs": [
    {
     "name": "stderr",
     "output_type": "stream",
     "text": [
      "100%|██████████| 10000/10000 [00:00<00:00, 11961.73it/s]"
     ]
    },
    {
     "name": "stdout",
     "output_type": "stream",
     "text": [
      "Empirical: time_1: 1.7358, time_2: 2.17, sum: 3.9058\n",
      "Analytical: 1.739 + 2.174 = 3.912\n"
     ]
    },
    {
     "name": "stderr",
     "output_type": "stream",
     "text": [
      "\n"
     ]
    }
   ],
   "source": [
    "def q5():\n",
    "    P = np.array([[1, 0, 0, 0], [0.1, 0.3, 0.5, 0.1], [0.2, 0.1, 0.6, 0.1], [0, 0, 0, 1]])\n",
    "    # Q = 1 2\n",
    "    absorb = set([0, 3])\n",
    "    time_1, time_2 = 0, 0\n",
    "    for i in tqdm.tqdm(range(ct)):\n",
    "        chain = [1] + markov_start_absorb(1, P, absorb)\n",
    "        time_1 += sum([c == 1 for c in chain])\n",
    "        time_2 += sum([c == 2 for c in chain])\n",
    "    time_1, time_2 = time_1 / ct, time_2 / ct\n",
    "    print(f\"Empirical: time_1: {time_1}, time_2: {time_2}, sum: {time_1 + time_2}\")\n",
    "    print(f\"Analytical: 1.739 + 2.174 = 3.912\")\n",
    "q5()"
   ]
  }
 ],
 "metadata": {
  "interpreter": {
   "hash": "4196bc094c357c3e234779247b9563680b1b9d183fddfea018960c65be8e6147"
  },
  "kernelspec": {
   "display_name": "Python 3.9.7 64-bit ('cse158env': conda)",
   "language": "python",
   "name": "python3"
  },
  "language_info": {
   "codemirror_mode": {
    "name": "ipython",
    "version": 3
   },
   "file_extension": ".py",
   "mimetype": "text/x-python",
   "name": "python",
   "nbconvert_exporter": "python",
   "pygments_lexer": "ipython3",
   "version": "3.9.7"
  },
  "orig_nbformat": 4
 },
 "nbformat": 4,
 "nbformat_minor": 2
}
