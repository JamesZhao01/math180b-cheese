{
 "cells": [
  {
   "cell_type": "code",
   "execution_count": 1,
   "metadata": {},
   "outputs": [],
   "source": [
    "from math import floor, log\n",
    "from collections import defaultdict\n",
    "import random\n",
    "import tqdm\n",
    "import numpy as np\n",
    "from numpy.random import poisson, binomial, uniform, exponential, multinomial, normal, multivariate_normal\n",
    "from scipy.stats import norm\n",
    "from scipy.stats import kstest, norm\n",
    "import scipy.linalg as la"
   ]
  },
  {
   "cell_type": "code",
   "execution_count": 25,
   "metadata": {},
   "outputs": [
    {
     "name": "stdout",
     "output_type": "stream",
     "text": [
      "[0.91314458 1.70534483 0.16641188 ... 0.90698758 0.14858753 0.72619758] [1.38551469 0.17831558 0.6683826  ... 0.14967921 0.07239984 0.90611126] [0.45904882 0.1141062  0.04943608 ... 0.06908392 0.19626827 0.06508829]\n",
      "0.4518523165985575\n"
     ]
    }
   ],
   "source": [
    "def q2i():\n",
    "    a, b, c = exponential(scale=1/1.0, size = 50000), exponential(scale=1/2.0, size = 50000), exponential(scale=1/3.0, size = 50000)\n",
    "    A = np.stack((a, b, c)).T\n",
    "    A.sort(axis=1)\n",
    "    print(np.mean(A[:,1]))\n",
    "q2i()\n",
    "    "
   ]
  },
  {
   "cell_type": "code",
   "execution_count": 29,
   "metadata": {},
   "outputs": [
    {
     "name": "stdout",
     "output_type": "stream",
     "text": [
      "0 0.58318\n",
      "1 0.26484\n",
      "2 0.15198\n"
     ]
    }
   ],
   "source": [
    "def q2ii():\n",
    "    a, b, c = exponential(scale=1/1.0, size = 50000), exponential(scale=1/2.0, size = 50000), exponential(scale=1/3.0, size = 50000)\n",
    "    A = np.stack((a, b, c)).T\n",
    "    m = np.argmax(A, axis=1)\n",
    "    unique, counts = np.unique(m, return_counts=True)\n",
    "    for u, c in zip(unique, counts):\n",
    "        print(u, c/50000)\n",
    "q2ii()"
   ]
  },
  {
   "cell_type": "code",
   "execution_count": 30,
   "metadata": {},
   "outputs": [
    {
     "name": "stdout",
     "output_type": "stream",
     "text": [
      "0 0.5838\n",
      "1 0.26676\n",
      "2 0.14944\n"
     ]
    }
   ],
   "source": [
    "def q2iii():\n",
    "    a, b, c = exponential(scale=1/1.0, size = 50000), exponential(scale=1/2.0, size = 50000), exponential(scale=1/3.0, size = 50000)\n",
    "    A = np.stack((a, b, c)).T\n",
    "    m = np.max(A, axis=1)\n",
    "    print(np.mean(m))\n",
    "q2iii()"
   ]
  }
 ],
 "metadata": {
  "interpreter": {
   "hash": "00eb4842bf1b72b71abf62257ce3e38328ef92c154c737ec21cf3c1f5526806a"
  },
  "kernelspec": {
   "display_name": "Python 3.7.11 ('smart')",
   "language": "python",
   "name": "python3"
  },
  "language_info": {
   "codemirror_mode": {
    "name": "ipython",
    "version": 3
   },
   "file_extension": ".py",
   "mimetype": "text/x-python",
   "name": "python",
   "nbconvert_exporter": "python",
   "pygments_lexer": "ipython3",
   "version": "3.7.11"
  },
  "orig_nbformat": 4
 },
 "nbformat": 4,
 "nbformat_minor": 2
}
